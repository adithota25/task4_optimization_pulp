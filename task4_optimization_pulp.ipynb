{
 "cells": [
  {
   "cell_type": "markdown",
   "id": "36be1b7b",
   "metadata": {},
   "source": [
    "# Task 4 – Optimization using PuLP (CodTech Internship)\n",
    "\n",
    "This task demonstrates solving a **Linear Programming (LP)** problem using Python's `PuLP` library.  \n",
    "We aim to **maximize profit** given constraints on resources.\n"
   ]
  },
  {
   "cell_type": "code",
   "execution_count": null,
   "id": "8a1c2f29",
   "metadata": {},
   "outputs": [],
   "source": [
    "# Install PuLP if not already installed\n",
    "# !pip install pulp\n",
    "\n",
    "from pulp import LpMaximize, LpProblem, LpVariable, lpSum, value\n"
   ]
  },
  {
   "cell_type": "code",
   "execution_count": null,
   "id": "4697e92c",
   "metadata": {},
   "outputs": [],
   "source": [
    "# Define the problem\n",
    "model = LpProblem(name=\"maximize-profit\", sense=LpMaximize)\n",
    "\n",
    "# Decision variables\n",
    "x = LpVariable(name=\"Product_A\", lowBound=0, cat='Integer')\n",
    "y = LpVariable(name=\"Product_B\", lowBound=0, cat='Integer')\n",
    "\n",
    "# Objective function: Maximize 20x + 30y\n",
    "model += 20 * x + 30 * y, \"Profit\"\n",
    "\n",
    "# Constraints\n",
    "model += 2 * x + 4 * y <= 100, \"Material\"\n",
    "model += 3 * x + 2 * y <= 90, \"Labor\"\n",
    "\n",
    "# Solve the problem\n",
    "model.solve()\n"
   ]
  },
  {
   "cell_type": "code",
   "execution_count": null,
   "id": "f4ba54f2",
   "metadata": {},
   "outputs": [],
   "source": [
    "# Display results\n",
    "print(f\"Status: {model.status}, {LpProblem.status[model.status]}\")\n",
    "print(f\"Optimal number of Product A to produce: {x.value()}\")\n",
    "print(f\"Optimal number of Product B to produce: {y.value()}\")\n",
    "print(f\"Maximum Profit: ₹{value(model.objective)}\")\n"
   ]
  }
 ],
 "metadata": {},
 "nbformat": 4,
 "nbformat_minor": 5
}